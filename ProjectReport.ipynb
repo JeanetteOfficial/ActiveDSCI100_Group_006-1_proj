{
 "cells": [
  {
   "cell_type": "markdown",
   "metadata": {},
   "source": [
    "# <font size=\"6\"> Predict Whether A Candidate is A Real Pulsar"
   ]
  },
  {
   "cell_type": "markdown",
   "metadata": {},
   "source": [
    "# <font size=\"5\"> 1.Introduction"
   ]
  },
  {
   "cell_type": "markdown",
   "metadata": {},
   "source": [
    "**Pulsars** are rare neutron stars, as probes of space-time, the interstellar medium, and the state of matter, which are very important for the study and development of natural sciences(Wikipedia). The search for pulsars relies mainly on detecting signals emitted by periodic broadband radio emission patterns (averaged over multiple rotations) as they rotate at high speeds. However, in practice, all detections are caused by radio frequency interference (RFI) and noise, so it is difficult to find legitimate signals. Hence, the search for **real** pulsars is challenging. "
   ]
  },
  {
   "cell_type": "markdown",
   "metadata": {},
   "source": [
    "**Our question is could we accurately predict a real pulsar using predictor variables Mean_IP, ExcessKurtosis_IP, and ExcessKurtosis_DS?**\n",
    "\n",
    "HTRU2 is a dataset on *kaggle* describing a sample of pulsar candidates collected during the High Temporal Resolution Universe Survey (South). It contains 16,259 spurious examples caused by RFI/noise and 1,639 real pulsar examples. Eight continuous variables describe each candidate as below and first four of them are statistics obtained from integrated pulse profile and the remaining are from DM-SNR curve.This is an array of continuous variables that describe a longitude-resolved version of the signal that has been averaged in both time and frequency.Please see the information as below,\n",
    "* Mean of the integrated profile.\n",
    "* Standard deviation of the integrated profile.\n",
    "* Excess kurtosis of the integrated profile.\n",
    "* Skewness of the integrated profile.\n",
    "* Mean of the DM-SNR curve.\n",
    "* Standard deviation of the DM-SNR curve.\n",
    "* Excess kurtosis of the DM-SNR curve.\n",
    "* Skewness of the DM-SNR curve.\n",
    "* Class:1 means real pulsar and 0 otherwise.\n",
    "\n",
    "We will further explain the details on the integrated profile and the DM-SNR curve respectively in the following report."
   ]
  },
  {
   "cell_type": "markdown",
   "metadata": {},
   "source": [
    "**Project Model Selection**: We choose classification algorithms - K nearest neighbors algorithms for our project. As we would like to predict the \"Class\" of a candidate and \"Class\" is a categorical class."
   ]
  },
  {
   "cell_type": "markdown",
   "metadata": {},
   "source": [
    "# <font size=\"5\"> 2.Methods and Results"
   ]
  },
  {
   "cell_type": "markdown",
   "metadata": {},
   "source": [
    "First of all, we need to import all of the Jupyter libraries we are going to apply for this project.\n",
    "Load the `tidyverse`, `tidymodels` and `GGally` package for data analysis."
   ]
  },
  {
   "cell_type": "code",
   "execution_count": 1,
   "metadata": {},
   "outputs": [
    {
     "name": "stderr",
     "output_type": "stream",
     "text": [
      "── \u001b[1mAttaching packages\u001b[22m ─────────────────────────────────────── tidyverse 1.3.0 ──\n",
      "\n",
      "\u001b[32m✔\u001b[39m \u001b[34mggplot2\u001b[39m 3.3.2     \u001b[32m✔\u001b[39m \u001b[34mpurrr  \u001b[39m 0.3.4\n",
      "\u001b[32m✔\u001b[39m \u001b[34mtibble \u001b[39m 3.0.3     \u001b[32m✔\u001b[39m \u001b[34mdplyr  \u001b[39m 1.0.2\n",
      "\u001b[32m✔\u001b[39m \u001b[34mtidyr  \u001b[39m 1.1.2     \u001b[32m✔\u001b[39m \u001b[34mstringr\u001b[39m 1.4.0\n",
      "\u001b[32m✔\u001b[39m \u001b[34mreadr  \u001b[39m 1.3.1     \u001b[32m✔\u001b[39m \u001b[34mforcats\u001b[39m 0.5.0\n",
      "\n",
      "Warning message:\n",
      "“package ‘ggplot2’ was built under R version 4.0.1”\n",
      "Warning message:\n",
      "“package ‘tibble’ was built under R version 4.0.2”\n",
      "Warning message:\n",
      "“package ‘tidyr’ was built under R version 4.0.2”\n",
      "Warning message:\n",
      "“package ‘dplyr’ was built under R version 4.0.2”\n",
      "── \u001b[1mConflicts\u001b[22m ────────────────────────────────────────── tidyverse_conflicts() ──\n",
      "\u001b[31m✖\u001b[39m \u001b[34mdplyr\u001b[39m::\u001b[32mfilter()\u001b[39m masks \u001b[34mstats\u001b[39m::filter()\n",
      "\u001b[31m✖\u001b[39m \u001b[34mdplyr\u001b[39m::\u001b[32mlag()\u001b[39m    masks \u001b[34mstats\u001b[39m::lag()\n",
      "\n",
      "Warning message:\n",
      "“package ‘tidymodels’ was built under R version 4.0.2”\n",
      "── \u001b[1mAttaching packages\u001b[22m ────────────────────────────────────── tidymodels 0.1.1 ──\n",
      "\n",
      "\u001b[32m✔\u001b[39m \u001b[34mbroom    \u001b[39m 0.7.0      \u001b[32m✔\u001b[39m \u001b[34mrecipes  \u001b[39m 0.1.13\n",
      "\u001b[32m✔\u001b[39m \u001b[34mdials    \u001b[39m 0.0.9      \u001b[32m✔\u001b[39m \u001b[34mrsample  \u001b[39m 0.0.7 \n",
      "\u001b[32m✔\u001b[39m \u001b[34minfer    \u001b[39m 0.5.4      \u001b[32m✔\u001b[39m \u001b[34mtune     \u001b[39m 0.1.1 \n",
      "\u001b[32m✔\u001b[39m \u001b[34mmodeldata\u001b[39m 0.0.2      \u001b[32m✔\u001b[39m \u001b[34mworkflows\u001b[39m 0.2.0 \n",
      "\u001b[32m✔\u001b[39m \u001b[34mparsnip  \u001b[39m 0.1.3      \u001b[32m✔\u001b[39m \u001b[34myardstick\u001b[39m 0.0.7 \n",
      "\n",
      "Warning message:\n",
      "“package ‘broom’ was built under R version 4.0.2”\n",
      "Warning message:\n",
      "“package ‘dials’ was built under R version 4.0.2”\n",
      "Warning message:\n",
      "“package ‘infer’ was built under R version 4.0.3”\n",
      "Warning message:\n",
      "“package ‘modeldata’ was built under R version 4.0.1”\n",
      "Warning message:\n",
      "“package ‘parsnip’ was built under R version 4.0.2”\n",
      "Warning message:\n",
      "“package ‘recipes’ was built under R version 4.0.1”\n",
      "Warning message:\n",
      "“package ‘tune’ was built under R version 4.0.2”\n",
      "Warning message:\n",
      "“package ‘workflows’ was built under R version 4.0.2”\n",
      "Warning message:\n",
      "“package ‘yardstick’ was built under R version 4.0.2”\n",
      "── \u001b[1mConflicts\u001b[22m ───────────────────────────────────────── tidymodels_conflicts() ──\n",
      "\u001b[31m✖\u001b[39m \u001b[34mscales\u001b[39m::\u001b[32mdiscard()\u001b[39m masks \u001b[34mpurrr\u001b[39m::discard()\n",
      "\u001b[31m✖\u001b[39m \u001b[34mdplyr\u001b[39m::\u001b[32mfilter()\u001b[39m   masks \u001b[34mstats\u001b[39m::filter()\n",
      "\u001b[31m✖\u001b[39m \u001b[34mrecipes\u001b[39m::\u001b[32mfixed()\u001b[39m  masks \u001b[34mstringr\u001b[39m::fixed()\n",
      "\u001b[31m✖\u001b[39m \u001b[34mdplyr\u001b[39m::\u001b[32mlag()\u001b[39m      masks \u001b[34mstats\u001b[39m::lag()\n",
      "\u001b[31m✖\u001b[39m \u001b[34myardstick\u001b[39m::\u001b[32mspec()\u001b[39m masks \u001b[34mreadr\u001b[39m::spec()\n",
      "\u001b[31m✖\u001b[39m \u001b[34mrecipes\u001b[39m::\u001b[32mstep()\u001b[39m   masks \u001b[34mstats\u001b[39m::step()\n",
      "\n",
      "also installing the dependencies ‘rlang’, ‘ggplot2’\n",
      "\n",
      "\n",
      "Warning message in install.packages(\"GGally\"):\n",
      "“installation of package ‘GGally’ had non-zero exit status”\n",
      "Updating HTML index of packages in '.Library'\n",
      "\n",
      "Making 'packages.html' ...\n",
      " done\n",
      "\n",
      "Registered S3 method overwritten by 'GGally':\n",
      "  method from   \n",
      "  +.gg   ggplot2\n",
      "\n",
      "Warning message:\n",
      "“package ‘rvest’ was built under R version 4.0.2”\n",
      "Loading required package: xml2\n",
      "\n",
      "\n",
      "Attaching package: ‘rvest’\n",
      "\n",
      "\n",
      "The following object is masked from ‘package:purrr’:\n",
      "\n",
      "    pluck\n",
      "\n",
      "\n",
      "The following object is masked from ‘package:readr’:\n",
      "\n",
      "    guess_encoding\n",
      "\n",
      "\n",
      "Updating HTML index of packages in '.Library'\n",
      "\n",
      "Making 'packages.html' ...\n",
      " done\n",
      "\n",
      "Loading required package: grid\n",
      "\n"
     ]
    }
   ],
   "source": [
    "library(tidyverse)\n",
    "library(tidymodels)      \n",
    "install.packages(\"GGally\")                    \n",
    "library(\"GGally\")\n",
    "library(rvest)\n",
    "install.packages(\"vcd\")\n",
    "library(vcd)\n",
    "library(ggplot2)"
   ]
  },
  {
   "cell_type": "markdown",
   "metadata": {},
   "source": [
    "Set the seed only once before loading data to gurantee our analysis to be reproducible."
   ]
  },
  {
   "cell_type": "code",
   "execution_count": 2,
   "metadata": {},
   "outputs": [],
   "source": [
    "set.seed(1)"
   ]
  },
  {
   "cell_type": "markdown",
   "metadata": {},
   "source": [
    "Read the file from online using `read_table2`. Load the data and add column names using `rename` manually to clean and wrangle data into tidy format. Also factor our predictor for classification using the `as_factor` function. "
   ]
  },
  {
   "cell_type": "code",
   "execution_count": 4,
   "metadata": {},
   "outputs": [
    {
     "name": "stderr",
     "output_type": "stream",
     "text": [
      "Parsed with column specification:\n",
      "cols(\n",
      "  X1 = \u001b[32mcol_double()\u001b[39m,\n",
      "  X2 = \u001b[32mcol_double()\u001b[39m,\n",
      "  X3 = \u001b[32mcol_double()\u001b[39m,\n",
      "  X4 = \u001b[32mcol_double()\u001b[39m,\n",
      "  X5 = \u001b[32mcol_double()\u001b[39m,\n",
      "  X6 = \u001b[32mcol_double()\u001b[39m,\n",
      "  X7 = \u001b[32mcol_double()\u001b[39m,\n",
      "  X8 = \u001b[32mcol_double()\u001b[39m,\n",
      "  X9 = \u001b[32mcol_double()\u001b[39m\n",
      ")\n",
      "\n"
     ]
    },
    {
     "data": {
      "text/html": [
       "<table>\n",
       "<caption>A tibble: 6 × 9</caption>\n",
       "<thead>\n",
       "\t<tr><th scope=col>Mean_IP</th><th scope=col>SD_IP</th><th scope=col>ExcessKurtosis_IP</th><th scope=col>Skewness_IP</th><th scope=col>Mean_DS</th><th scope=col>SD_DS</th><th scope=col>ExcessKurtosis_DS</th><th scope=col>Skewness_DS</th><th scope=col>Class</th></tr>\n",
       "\t<tr><th scope=col>&lt;dbl&gt;</th><th scope=col>&lt;dbl&gt;</th><th scope=col>&lt;dbl&gt;</th><th scope=col>&lt;dbl&gt;</th><th scope=col>&lt;dbl&gt;</th><th scope=col>&lt;dbl&gt;</th><th scope=col>&lt;dbl&gt;</th><th scope=col>&lt;dbl&gt;</th><th scope=col>&lt;fct&gt;</th></tr>\n",
       "</thead>\n",
       "<tbody>\n",
       "\t<tr><td>140.56250</td><td>55.68378</td><td>-0.23457141</td><td>-0.6996484</td><td>3.199833</td><td>19.11043</td><td> 7.975532</td><td> 74.24222</td><td>rfi_noise</td></tr>\n",
       "\t<tr><td>102.50781</td><td>58.88243</td><td> 0.46531815</td><td>-0.5150879</td><td>1.677258</td><td>14.86015</td><td>10.576487</td><td>127.39358</td><td>rfi_noise</td></tr>\n",
       "\t<tr><td>103.01562</td><td>39.34165</td><td> 0.32332837</td><td> 1.0511644</td><td>3.121237</td><td>21.74467</td><td> 7.735822</td><td> 63.17191</td><td>rfi_noise</td></tr>\n",
       "\t<tr><td>136.75000</td><td>57.17845</td><td>-0.06841464</td><td>-0.6362384</td><td>3.642977</td><td>20.95928</td><td> 6.896499</td><td> 53.59366</td><td>rfi_noise</td></tr>\n",
       "\t<tr><td> 88.72656</td><td>40.67223</td><td> 0.60086608</td><td> 1.1234917</td><td>1.178930</td><td>11.46872</td><td>14.269573</td><td>252.56731</td><td>rfi_noise</td></tr>\n",
       "\t<tr><td> 93.57031</td><td>46.69811</td><td> 0.53190485</td><td> 0.4167211</td><td>1.636288</td><td>14.54507</td><td>10.621748</td><td>131.39400</td><td>rfi_noise</td></tr>\n",
       "</tbody>\n",
       "</table>\n"
      ],
      "text/latex": [
       "A tibble: 6 × 9\n",
       "\\begin{tabular}{lllllllll}\n",
       " Mean\\_IP & SD\\_IP & ExcessKurtosis\\_IP & Skewness\\_IP & Mean\\_DS & SD\\_DS & ExcessKurtosis\\_DS & Skewness\\_DS & Class\\\\\n",
       " <dbl> & <dbl> & <dbl> & <dbl> & <dbl> & <dbl> & <dbl> & <dbl> & <fct>\\\\\n",
       "\\hline\n",
       "\t 140.56250 & 55.68378 & -0.23457141 & -0.6996484 & 3.199833 & 19.11043 &  7.975532 &  74.24222 & rfi\\_noise\\\\\n",
       "\t 102.50781 & 58.88243 &  0.46531815 & -0.5150879 & 1.677258 & 14.86015 & 10.576487 & 127.39358 & rfi\\_noise\\\\\n",
       "\t 103.01562 & 39.34165 &  0.32332837 &  1.0511644 & 3.121237 & 21.74467 &  7.735822 &  63.17191 & rfi\\_noise\\\\\n",
       "\t 136.75000 & 57.17845 & -0.06841464 & -0.6362384 & 3.642977 & 20.95928 &  6.896499 &  53.59366 & rfi\\_noise\\\\\n",
       "\t  88.72656 & 40.67223 &  0.60086608 &  1.1234917 & 1.178930 & 11.46872 & 14.269573 & 252.56731 & rfi\\_noise\\\\\n",
       "\t  93.57031 & 46.69811 &  0.53190485 &  0.4167211 & 1.636288 & 14.54507 & 10.621748 & 131.39400 & rfi\\_noise\\\\\n",
       "\\end{tabular}\n"
      ],
      "text/markdown": [
       "\n",
       "A tibble: 6 × 9\n",
       "\n",
       "| Mean_IP &lt;dbl&gt; | SD_IP &lt;dbl&gt; | ExcessKurtosis_IP &lt;dbl&gt; | Skewness_IP &lt;dbl&gt; | Mean_DS &lt;dbl&gt; | SD_DS &lt;dbl&gt; | ExcessKurtosis_DS &lt;dbl&gt; | Skewness_DS &lt;dbl&gt; | Class &lt;fct&gt; |\n",
       "|---|---|---|---|---|---|---|---|---|\n",
       "| 140.56250 | 55.68378 | -0.23457141 | -0.6996484 | 3.199833 | 19.11043 |  7.975532 |  74.24222 | rfi_noise |\n",
       "| 102.50781 | 58.88243 |  0.46531815 | -0.5150879 | 1.677258 | 14.86015 | 10.576487 | 127.39358 | rfi_noise |\n",
       "| 103.01562 | 39.34165 |  0.32332837 |  1.0511644 | 3.121237 | 21.74467 |  7.735822 |  63.17191 | rfi_noise |\n",
       "| 136.75000 | 57.17845 | -0.06841464 | -0.6362384 | 3.642977 | 20.95928 |  6.896499 |  53.59366 | rfi_noise |\n",
       "|  88.72656 | 40.67223 |  0.60086608 |  1.1234917 | 1.178930 | 11.46872 | 14.269573 | 252.56731 | rfi_noise |\n",
       "|  93.57031 | 46.69811 |  0.53190485 |  0.4167211 | 1.636288 | 14.54507 | 10.621748 | 131.39400 | rfi_noise |\n",
       "\n"
      ],
      "text/plain": [
       "  Mean_IP   SD_IP    ExcessKurtosis_IP Skewness_IP Mean_DS  SD_DS   \n",
       "1 140.56250 55.68378 -0.23457141       -0.6996484  3.199833 19.11043\n",
       "2 102.50781 58.88243  0.46531815       -0.5150879  1.677258 14.86015\n",
       "3 103.01562 39.34165  0.32332837        1.0511644  3.121237 21.74467\n",
       "4 136.75000 57.17845 -0.06841464       -0.6362384  3.642977 20.95928\n",
       "5  88.72656 40.67223  0.60086608        1.1234917  1.178930 11.46872\n",
       "6  93.57031 46.69811  0.53190485        0.4167211  1.636288 14.54507\n",
       "  ExcessKurtosis_DS Skewness_DS Class    \n",
       "1  7.975532          74.24222   rfi_noise\n",
       "2 10.576487         127.39358   rfi_noise\n",
       "3  7.735822          63.17191   rfi_noise\n",
       "4  6.896499          53.59366   rfi_noise\n",
       "5 14.269573         252.56731   rfi_noise\n",
       "6 10.621748         131.39400   rfi_noise"
      ]
     },
     "metadata": {},
     "output_type": "display_data"
    }
   ],
   "source": [
    "pulsar_raw_data <- read_table2(\"https://raw.githubusercontent.com/JeanetteOfficial/ActiveDSCI100_Group_006-1_proj/main/data/HTRU_2.txt\",\n",
    "                          col_names = FALSE) \n",
    "pulsar_raw_data <- rename(pulsar_raw_data, \"Mean_IP\" = X1,\n",
    "                         \"SD_IP\" = X2,\n",
    "                         \"ExcessKurtosis_IP\" = X3,\n",
    "                         \"Skewness_IP\" = X4,\n",
    "                         \"Mean_DS\" = X5,\n",
    "                         \"SD_DS\" = X6,\n",
    "                         \"ExcessKurtosis_DS\" = X7,\n",
    "                         \"Skewness_DS\" = X8,\n",
    "                         \"Class\" = X9) \n",
    "\n",
    "pulsar_raw_data <- mutate(pulsar_raw_data, Class = as_factor(case_when(Class == 1 ~ \"pulsar\",\n",
    "                                                                      TRUE ~ \"rfi_noise\")))\n",
    "head(pulsar_raw_data)"
   ]
  },
  {
   "cell_type": "markdown",
   "metadata": {},
   "source": [
    "**Table 1**: Preview the raw data after factoring the Class."
   ]
  },
  {
   "cell_type": "markdown",
   "metadata": {},
   "source": [
    "We use  `glimpse` to inspect the data, as we have a lot of columns. In such way, it prints the data such that the columns go down the page (instead of across). And we can easily view our 9 variables."
   ]
  },
  {
   "cell_type": "code",
   "execution_count": 10,
   "metadata": {},
   "outputs": [
    {
     "name": "stdout",
     "output_type": "stream",
     "text": [
      "Rows: 17,898\n",
      "Columns: 9\n",
      "$ Mean_IP           \u001b[3m\u001b[90m<dbl>\u001b[39m\u001b[23m 140.56250, 102.50781, 103.01562, 136.75000, 88.7265…\n",
      "$ SD_IP             \u001b[3m\u001b[90m<dbl>\u001b[39m\u001b[23m 55.68378, 58.88243, 39.34165, 57.17845, 40.67223, 4…\n",
      "$ ExcessKurtosis_IP \u001b[3m\u001b[90m<dbl>\u001b[39m\u001b[23m -0.23457141, 0.46531815, 0.32332837, -0.06841464, 0…\n",
      "$ Skewness_IP       \u001b[3m\u001b[90m<dbl>\u001b[39m\u001b[23m -0.69964840, -0.51508791, 1.05116443, -0.63623837, …\n",
      "$ Mean_DS           \u001b[3m\u001b[90m<dbl>\u001b[39m\u001b[23m 3.1998328, 1.6772575, 3.1212375, 3.6429766, 1.17892…\n",
      "$ SD_DS             \u001b[3m\u001b[90m<dbl>\u001b[39m\u001b[23m 19.110426, 14.860146, 21.744669, 20.959280, 11.4687…\n",
      "$ ExcessKurtosis_DS \u001b[3m\u001b[90m<dbl>\u001b[39m\u001b[23m 7.975532, 10.576487, 7.735822, 6.896499, 14.269573,…\n",
      "$ Skewness_DS       \u001b[3m\u001b[90m<dbl>\u001b[39m\u001b[23m 74.24222, 127.39358, 63.17191, 53.59366, 252.56731,…\n",
      "$ Class             \u001b[3m\u001b[90m<fct>\u001b[39m\u001b[23m rfi_noise, rfi_noise, rfi_noise, rfi_noise, rfi_noi…\n"
     ]
    }
   ],
   "source": [
    "glimpse(pulsar_raw_data)"
   ]
  },
  {
   "cell_type": "markdown",
   "metadata": {},
   "source": [
    "**Table 2**: Preview the raw data with column names can be read from up to down."
   ]
  },
  {
   "cell_type": "markdown",
   "metadata": {},
   "source": [
    "Explore the data using  `group_by`,  `summarize`,  `n` functions within  `summarize` to find the number and percentage of pulsar and rfi_noise observations in our data set. We observed that it has 1639 (9%) pulsar and 16259 (91%) rfi_noise observations. It is predicted as that there should be rare real pulsar."
   ]
  },
  {
   "cell_type": "code",
   "execution_count": 11,
   "metadata": {},
   "outputs": [
    {
     "name": "stderr",
     "output_type": "stream",
     "text": [
      "`summarise()` ungrouping output (override with `.groups` argument)\n",
      "\n"
     ]
    },
    {
     "data": {
      "text/html": [
       "<table>\n",
       "<caption>A tibble: 2 × 3</caption>\n",
       "<thead>\n",
       "\t<tr><th scope=col>Class</th><th scope=col>n</th><th scope=col>percent</th></tr>\n",
       "\t<tr><th scope=col>&lt;fct&gt;</th><th scope=col>&lt;int&gt;</th><th scope=col>&lt;dbl&gt;</th></tr>\n",
       "</thead>\n",
       "<tbody>\n",
       "\t<tr><td>rfi_noise</td><td>16259</td><td>90.842552</td></tr>\n",
       "\t<tr><td>pulsar   </td><td> 1639</td><td> 9.157448</td></tr>\n",
       "</tbody>\n",
       "</table>\n"
      ],
      "text/latex": [
       "A tibble: 2 × 3\n",
       "\\begin{tabular}{lll}\n",
       " Class & n & percent\\\\\n",
       " <fct> & <int> & <dbl>\\\\\n",
       "\\hline\n",
       "\t rfi\\_noise & 16259 & 90.842552\\\\\n",
       "\t pulsar    &  1639 &  9.157448\\\\\n",
       "\\end{tabular}\n"
      ],
      "text/markdown": [
       "\n",
       "A tibble: 2 × 3\n",
       "\n",
       "| Class &lt;fct&gt; | n &lt;int&gt; | percent &lt;dbl&gt; |\n",
       "|---|---|---|\n",
       "| rfi_noise | 16259 | 90.842552 |\n",
       "| pulsar    |  1639 |  9.157448 |\n",
       "\n"
      ],
      "text/plain": [
       "  Class     n     percent  \n",
       "1 rfi_noise 16259 90.842552\n",
       "2 pulsar     1639  9.157448"
      ]
     },
     "metadata": {},
     "output_type": "display_data"
    }
   ],
   "source": [
    "pulsar_proportions <- pulsar_raw_data %>%\n",
    "                      group_by(Class) %>%\n",
    "                      summarize(n=n()) %>%\n",
    "                      mutate(percent = 100*n/nrow(pulsar_raw_data))\n",
    "pulsar_proportions"
   ]
  },
  {
   "cell_type": "markdown",
   "metadata": {},
   "source": [
    "**Table 3** : Percentage of Class 0 and Class 1 in the raw data."
   ]
  },
  {
   "cell_type": "markdown",
   "metadata": {},
   "source": [
    "Using  `initial_split ` split the train/test data for training an accurate model and achieving accurate evaluation for the model. As we experimented with different splits, we found that when the ratio of the training and testing data is 75% : 25%, it would be the most appropriate solution. Furthermore, according to the textbook, we conclude that the trade off between a larger training set making the model more accurate versus a larger testing set making our evaluation more accurate. As we experimented with different splits, we came to a conclusion that the 75-25 split would be the most appropriate solution. Also the `initial_split` function allows us to shuffle and stratify the data to prevent the order from influencing the outcome and to ensure that the proportion of each class is preserved between the training and testing split. Next, we use `glimpse` to inspect the training data. "
   ]
  },
  {
   "cell_type": "code",
   "execution_count": 12,
   "metadata": {},
   "outputs": [
    {
     "name": "stdout",
     "output_type": "stream",
     "text": [
      "Rows: 13,424\n",
      "Columns: 9\n",
      "$ Mean_IP           \u001b[3m\u001b[90m<dbl>\u001b[39m\u001b[23m 140.56250, 102.50781, 103.01562, 136.75000, 88.7265…\n",
      "$ SD_IP             \u001b[3m\u001b[90m<dbl>\u001b[39m\u001b[23m 55.68378, 58.88243, 39.34165, 57.17845, 40.67223, 4…\n",
      "$ ExcessKurtosis_IP \u001b[3m\u001b[90m<dbl>\u001b[39m\u001b[23m -0.234571412, 0.465318154, 0.323328365, -0.06841463…\n",
      "$ Skewness_IP       \u001b[3m\u001b[90m<dbl>\u001b[39m\u001b[23m -0.69964840, -0.51508791, 1.05116443, -0.63623837, …\n",
      "$ Mean_DS           \u001b[3m\u001b[90m<dbl>\u001b[39m\u001b[23m 3.199833, 1.677258, 3.121237, 3.642977, 1.178930, 1…\n",
      "$ SD_DS             \u001b[3m\u001b[90m<dbl>\u001b[39m\u001b[23m 19.11043, 14.86015, 21.74467, 20.95928, 11.46872, 1…\n",
      "$ ExcessKurtosis_DS \u001b[3m\u001b[90m<dbl>\u001b[39m\u001b[23m 7.975532, 10.576487, 7.735822, 6.896499, 14.269573,…\n",
      "$ Skewness_DS       \u001b[3m\u001b[90m<dbl>\u001b[39m\u001b[23m 74.24222, 127.39358, 63.17191, 53.59366, 252.56731,…\n",
      "$ Class             \u001b[3m\u001b[90m<fct>\u001b[39m\u001b[23m rfi_noise, rfi_noise, rfi_noise, rfi_noise, rfi_noi…\n"
     ]
    }
   ],
   "source": [
    "pulsar_split <- initial_split(pulsar_raw_data,prop=0.75,strata = Class)\n",
    "pulsar_train <- training(pulsar_split)\n",
    "pulsar_test <- testing(pulsar_split)\n",
    "glimpse(pulsar_train)"
   ]
  },
  {
   "cell_type": "markdown",
   "metadata": {},
   "source": [
    "**Table 4**: Preview the training data."
   ]
  },
  {
   "cell_type": "markdown",
   "metadata": {},
   "source": [
    "We use `group_by`,  `summarize` and  `n` function within  `summarize` to find the perentange of Class  1 and Class 0 in `pulsar_train`. And we see about 1291(9%) are real pulsar and 12183 (91%) are rfi_noise, indicating that our class proportions were roughly preserved when we split the data, which means that we have enough data in each proportion in the training data. This also remind us that we need to frist balance the test data to use them."
   ]
  },
  {
   "cell_type": "code",
   "execution_count": 13,
   "metadata": {},
   "outputs": [
    {
     "name": "stderr",
     "output_type": "stream",
     "text": [
      "`summarise()` ungrouping output (override with `.groups` argument)\n",
      "\n"
     ]
    },
    {
     "data": {
      "text/html": [
       "<table>\n",
       "<caption>A tibble: 2 × 3</caption>\n",
       "<thead>\n",
       "\t<tr><th scope=col>Class</th><th scope=col>n</th><th scope=col>percent</th></tr>\n",
       "\t<tr><th scope=col>&lt;fct&gt;</th><th scope=col>&lt;int&gt;</th><th scope=col>&lt;dbl&gt;</th></tr>\n",
       "</thead>\n",
       "<tbody>\n",
       "\t<tr><td>rfi_noise</td><td>12183</td><td>90.755364</td></tr>\n",
       "\t<tr><td>pulsar   </td><td> 1241</td><td> 9.244636</td></tr>\n",
       "</tbody>\n",
       "</table>\n"
      ],
      "text/latex": [
       "A tibble: 2 × 3\n",
       "\\begin{tabular}{lll}\n",
       " Class & n & percent\\\\\n",
       " <fct> & <int> & <dbl>\\\\\n",
       "\\hline\n",
       "\t rfi\\_noise & 12183 & 90.755364\\\\\n",
       "\t pulsar    &  1241 &  9.244636\\\\\n",
       "\\end{tabular}\n"
      ],
      "text/markdown": [
       "\n",
       "A tibble: 2 × 3\n",
       "\n",
       "| Class &lt;fct&gt; | n &lt;int&gt; | percent &lt;dbl&gt; |\n",
       "|---|---|---|\n",
       "| rfi_noise | 12183 | 90.755364 |\n",
       "| pulsar    |  1241 |  9.244636 |\n",
       "\n"
      ],
      "text/plain": [
       "  Class     n     percent  \n",
       "1 rfi_noise 12183 90.755364\n",
       "2 pulsar     1241  9.244636"
      ]
     },
     "metadata": {},
     "output_type": "display_data"
    }
   ],
   "source": [
    "pulsar_train_proportions <- pulsar_train %>%\n",
    "                      group_by(Class) %>%\n",
    "                      summarize(n=n()) %>%\n",
    "                      mutate(percent = 100*n/nrow(pulsar_train))\n",
    "pulsar_train_proportions"
   ]
  },
  {
   "cell_type": "markdown",
   "metadata": {},
   "source": [
    "**Table 5**: Percentage of Class 1 and Class 0 in the training data."
   ]
  },
  {
   "cell_type": "markdown",
   "metadata": {},
   "source": [
    "Check if there are missing values in the training data with the function `na.omit` . If so, we have to deal with them first, otherwise our data analysis would not be as accurate as possible. We can observe from above that the row count remains the same as the 75% of the raw data, meaning that there aren't any missing values. Check to see the first six rows of the data with `head`."
   ]
  },
  {
   "cell_type": "code",
   "execution_count": 14,
   "metadata": {},
   "outputs": [
    {
     "data": {
      "text/html": [
       "<table>\n",
       "<caption>A tibble: 6 × 9</caption>\n",
       "<thead>\n",
       "\t<tr><th scope=col>Mean_IP</th><th scope=col>SD_IP</th><th scope=col>ExcessKurtosis_IP</th><th scope=col>Skewness_IP</th><th scope=col>Mean_DS</th><th scope=col>SD_DS</th><th scope=col>ExcessKurtosis_DS</th><th scope=col>Skewness_DS</th><th scope=col>Class</th></tr>\n",
       "\t<tr><th scope=col>&lt;dbl&gt;</th><th scope=col>&lt;dbl&gt;</th><th scope=col>&lt;dbl&gt;</th><th scope=col>&lt;dbl&gt;</th><th scope=col>&lt;dbl&gt;</th><th scope=col>&lt;dbl&gt;</th><th scope=col>&lt;dbl&gt;</th><th scope=col>&lt;dbl&gt;</th><th scope=col>&lt;fct&gt;</th></tr>\n",
       "</thead>\n",
       "<tbody>\n",
       "\t<tr><td>140.56250</td><td>55.68378</td><td>-0.23457141</td><td>-0.6996484</td><td>3.199833</td><td>19.11043</td><td> 7.975532</td><td> 74.24222</td><td>rfi_noise</td></tr>\n",
       "\t<tr><td>102.50781</td><td>58.88243</td><td> 0.46531815</td><td>-0.5150879</td><td>1.677258</td><td>14.86015</td><td>10.576487</td><td>127.39358</td><td>rfi_noise</td></tr>\n",
       "\t<tr><td>103.01562</td><td>39.34165</td><td> 0.32332837</td><td> 1.0511644</td><td>3.121237</td><td>21.74467</td><td> 7.735822</td><td> 63.17191</td><td>rfi_noise</td></tr>\n",
       "\t<tr><td>136.75000</td><td>57.17845</td><td>-0.06841464</td><td>-0.6362384</td><td>3.642977</td><td>20.95928</td><td> 6.896499</td><td> 53.59366</td><td>rfi_noise</td></tr>\n",
       "\t<tr><td> 88.72656</td><td>40.67223</td><td> 0.60086608</td><td> 1.1234917</td><td>1.178930</td><td>11.46872</td><td>14.269573</td><td>252.56731</td><td>rfi_noise</td></tr>\n",
       "\t<tr><td> 93.57031</td><td>46.69811</td><td> 0.53190485</td><td> 0.4167211</td><td>1.636288</td><td>14.54507</td><td>10.621748</td><td>131.39400</td><td>rfi_noise</td></tr>\n",
       "</tbody>\n",
       "</table>\n"
      ],
      "text/latex": [
       "A tibble: 6 × 9\n",
       "\\begin{tabular}{lllllllll}\n",
       " Mean\\_IP & SD\\_IP & ExcessKurtosis\\_IP & Skewness\\_IP & Mean\\_DS & SD\\_DS & ExcessKurtosis\\_DS & Skewness\\_DS & Class\\\\\n",
       " <dbl> & <dbl> & <dbl> & <dbl> & <dbl> & <dbl> & <dbl> & <dbl> & <fct>\\\\\n",
       "\\hline\n",
       "\t 140.56250 & 55.68378 & -0.23457141 & -0.6996484 & 3.199833 & 19.11043 &  7.975532 &  74.24222 & rfi\\_noise\\\\\n",
       "\t 102.50781 & 58.88243 &  0.46531815 & -0.5150879 & 1.677258 & 14.86015 & 10.576487 & 127.39358 & rfi\\_noise\\\\\n",
       "\t 103.01562 & 39.34165 &  0.32332837 &  1.0511644 & 3.121237 & 21.74467 &  7.735822 &  63.17191 & rfi\\_noise\\\\\n",
       "\t 136.75000 & 57.17845 & -0.06841464 & -0.6362384 & 3.642977 & 20.95928 &  6.896499 &  53.59366 & rfi\\_noise\\\\\n",
       "\t  88.72656 & 40.67223 &  0.60086608 &  1.1234917 & 1.178930 & 11.46872 & 14.269573 & 252.56731 & rfi\\_noise\\\\\n",
       "\t  93.57031 & 46.69811 &  0.53190485 &  0.4167211 & 1.636288 & 14.54507 & 10.621748 & 131.39400 & rfi\\_noise\\\\\n",
       "\\end{tabular}\n"
      ],
      "text/markdown": [
       "\n",
       "A tibble: 6 × 9\n",
       "\n",
       "| Mean_IP &lt;dbl&gt; | SD_IP &lt;dbl&gt; | ExcessKurtosis_IP &lt;dbl&gt; | Skewness_IP &lt;dbl&gt; | Mean_DS &lt;dbl&gt; | SD_DS &lt;dbl&gt; | ExcessKurtosis_DS &lt;dbl&gt; | Skewness_DS &lt;dbl&gt; | Class &lt;fct&gt; |\n",
       "|---|---|---|---|---|---|---|---|---|\n",
       "| 140.56250 | 55.68378 | -0.23457141 | -0.6996484 | 3.199833 | 19.11043 |  7.975532 |  74.24222 | rfi_noise |\n",
       "| 102.50781 | 58.88243 |  0.46531815 | -0.5150879 | 1.677258 | 14.86015 | 10.576487 | 127.39358 | rfi_noise |\n",
       "| 103.01562 | 39.34165 |  0.32332837 |  1.0511644 | 3.121237 | 21.74467 |  7.735822 |  63.17191 | rfi_noise |\n",
       "| 136.75000 | 57.17845 | -0.06841464 | -0.6362384 | 3.642977 | 20.95928 |  6.896499 |  53.59366 | rfi_noise |\n",
       "|  88.72656 | 40.67223 |  0.60086608 |  1.1234917 | 1.178930 | 11.46872 | 14.269573 | 252.56731 | rfi_noise |\n",
       "|  93.57031 | 46.69811 |  0.53190485 |  0.4167211 | 1.636288 | 14.54507 | 10.621748 | 131.39400 | rfi_noise |\n",
       "\n"
      ],
      "text/plain": [
       "  Mean_IP   SD_IP    ExcessKurtosis_IP Skewness_IP Mean_DS  SD_DS   \n",
       "1 140.56250 55.68378 -0.23457141       -0.6996484  3.199833 19.11043\n",
       "2 102.50781 58.88243  0.46531815       -0.5150879  1.677258 14.86015\n",
       "3 103.01562 39.34165  0.32332837        1.0511644  3.121237 21.74467\n",
       "4 136.75000 57.17845 -0.06841464       -0.6362384  3.642977 20.95928\n",
       "5  88.72656 40.67223  0.60086608        1.1234917  1.178930 11.46872\n",
       "6  93.57031 46.69811  0.53190485        0.4167211  1.636288 14.54507\n",
       "  ExcessKurtosis_DS Skewness_DS Class    \n",
       "1  7.975532          74.24222   rfi_noise\n",
       "2 10.576487         127.39358   rfi_noise\n",
       "3  7.735822          63.17191   rfi_noise\n",
       "4  6.896499          53.59366   rfi_noise\n",
       "5 14.269573         252.56731   rfi_noise\n",
       "6 10.621748         131.39400   rfi_noise"
      ]
     },
     "metadata": {},
     "output_type": "display_data"
    }
   ],
   "source": [
    "na.omit(pulsar_train, cols=c(\"Mean_IP\", \"SD_IP\", \"ExcessKurtosis_IP\", \"Skewness_IP\", \n",
    "                             \"Mean_DS\", \"SD_DS\", \"ExcessKurtosis_DS\", \"Skewness_DS\",\"Class\")) %>%\n",
    "head(6)\n",
    "# glimpse(pulsar_train)"
   ]
  },
  {
   "cell_type": "markdown",
   "metadata": {},
   "source": [
    "**Table 6**: Preview the data after checking missing values."
   ]
  },
  {
   "cell_type": "markdown",
   "metadata": {},
   "source": [
    "`summarize` the means of the 8 predictor variables in a table so that we are able to know whether each data is higher or lower than the average."
   ]
  },
  {
   "cell_type": "code",
   "execution_count": 15,
   "metadata": {},
   "outputs": [
    {
     "data": {
      "text/html": [
       "<table>\n",
       "<caption>A tibble: 1 × 8</caption>\n",
       "<thead>\n",
       "\t<tr><th scope=col>AVG_MeanIP</th><th scope=col>AVG_SDIP</th><th scope=col>AVG_ExcessKurtosisIP</th><th scope=col>AVG_SkewnessIP</th><th scope=col>AVG_MeanDS</th><th scope=col>AVG_SDDS</th><th scope=col>AVG_ExcessKurtosisDS</th><th scope=col>AVG_SkewnessDS</th></tr>\n",
       "\t<tr><th scope=col>&lt;dbl&gt;</th><th scope=col>&lt;dbl&gt;</th><th scope=col>&lt;dbl&gt;</th><th scope=col>&lt;dbl&gt;</th><th scope=col>&lt;dbl&gt;</th><th scope=col>&lt;dbl&gt;</th><th scope=col>&lt;dbl&gt;</th><th scope=col>&lt;dbl&gt;</th></tr>\n",
       "</thead>\n",
       "<tbody>\n",
       "\t<tr><td>110.9139</td><td>46.5429</td><td>0.4840392</td><td>1.79401</td><td>12.69251</td><td>26.34225</td><td>8.314097</td><td>105.3613</td></tr>\n",
       "</tbody>\n",
       "</table>\n"
      ],
      "text/latex": [
       "A tibble: 1 × 8\n",
       "\\begin{tabular}{llllllll}\n",
       " AVG\\_MeanIP & AVG\\_SDIP & AVG\\_ExcessKurtosisIP & AVG\\_SkewnessIP & AVG\\_MeanDS & AVG\\_SDDS & AVG\\_ExcessKurtosisDS & AVG\\_SkewnessDS\\\\\n",
       " <dbl> & <dbl> & <dbl> & <dbl> & <dbl> & <dbl> & <dbl> & <dbl>\\\\\n",
       "\\hline\n",
       "\t 110.9139 & 46.5429 & 0.4840392 & 1.79401 & 12.69251 & 26.34225 & 8.314097 & 105.3613\\\\\n",
       "\\end{tabular}\n"
      ],
      "text/markdown": [
       "\n",
       "A tibble: 1 × 8\n",
       "\n",
       "| AVG_MeanIP &lt;dbl&gt; | AVG_SDIP &lt;dbl&gt; | AVG_ExcessKurtosisIP &lt;dbl&gt; | AVG_SkewnessIP &lt;dbl&gt; | AVG_MeanDS &lt;dbl&gt; | AVG_SDDS &lt;dbl&gt; | AVG_ExcessKurtosisDS &lt;dbl&gt; | AVG_SkewnessDS &lt;dbl&gt; |\n",
       "|---|---|---|---|---|---|---|---|\n",
       "| 110.9139 | 46.5429 | 0.4840392 | 1.79401 | 12.69251 | 26.34225 | 8.314097 | 105.3613 |\n",
       "\n"
      ],
      "text/plain": [
       "  AVG_MeanIP AVG_SDIP AVG_ExcessKurtosisIP AVG_SkewnessIP AVG_MeanDS AVG_SDDS\n",
       "1 110.9139   46.5429  0.4840392            1.79401        12.69251   26.34225\n",
       "  AVG_ExcessKurtosisDS AVG_SkewnessDS\n",
       "1 8.314097             105.3613      "
      ]
     },
     "metadata": {},
     "output_type": "display_data"
    }
   ],
   "source": [
    "mean_pulsar_train <- pulsar_train %>%\n",
    "summarize(AVG_MeanIP = mean(Mean_IP, na.rm = TRUE),\n",
    "          AVG_SDIP = mean(SD_IP,na.rm = TRUE),\n",
    "          AVG_ExcessKurtosisIP = mean(ExcessKurtosis_IP,na.rm = TRUE),\n",
    "          AVG_SkewnessIP = mean(Skewness_IP,na.rm = TRUE),\n",
    "          AVG_MeanDS = mean(Mean_DS,na.rm = TRUE),\n",
    "          AVG_SDDS = mean(SD_DS,na.rm = TRUE),\n",
    "          AVG_ExcessKurtosisDS = mean(ExcessKurtosis_DS,na.rm = TRUE),\n",
    "          AVG_SkewnessDS = mean(Skewness_DS,na.rm = TRUE))         \n",
    "mean_pulsar_train"
   ]
  },
  {
   "cell_type": "markdown",
   "metadata": {},
   "source": [
    "**Table 7**: The means of all variables."
   ]
  },
  {
   "cell_type": "markdown",
   "metadata": {},
   "source": [
    "# <font size=\"4\">Choosing Predictive Variables"
   ]
  },
  {
   "cell_type": "markdown",
   "metadata": {},
   "source": [
    "**Intuition**: \n",
    "\n",
    "* Except for the Class variable, we have 8 continuous variables describing each candidate. First four are statistics obtained from integrated pulse profile. The pulse profile refers to the curve of the periodic variation of the pulsar's radiation signal with time, which is also known as the light curve. A single pulse signal is very unstable, the intensity of the pulse is variable, and sometimes it even disappears. However, the average value of thousands of pulses has a very stable periodicity(corr_ee). Therefore, we consider that the mean of the integrated pulse profile should be useful to judge and predict a real pulsar. \n",
    "\n",
    "* The remaining variables are from the DM-SNR(Dispersion Measure-Signal to Noise Ratio) curve. The DM-SNR curve records the relationship of SNR to DM, and the dispersion curve shows the corresponding SNR of the pulsed curve when different dispersion values are used for dedispersion. In the case of a pulsed signal, the peak of the curve appears at a non-zero position, while the curve for a non-pulse signal will either have no apparent peak or it peaks at zero(Liu. et al,12). Therefore, the Excess Kurtosis of the DM-SNR curve is essential for judging and predicting the pulsar.\n"
   ]
  },
  {
   "cell_type": "markdown",
   "metadata": {},
   "source": [
    "Using `ggpairs` to compare the distribution of 8 variables in our dataset and to check with our intuition above. It seems that the mean of the Integrated pulsar profile and the Excess Kurtosis are well correlated to pulsar. However, the other six variables also work well. So we want to use histogram to check again."
   ]
  },
  {
   "cell_type": "code",
   "execution_count": null,
   "metadata": {},
   "outputs": [],
   "source": []
  }
 ],
 "metadata": {
  "kernelspec": {
   "display_name": "R",
   "language": "R",
   "name": "ir"
  },
  "language_info": {
   "codemirror_mode": "r",
   "file_extension": ".r",
   "mimetype": "text/x-r-source",
   "name": "R",
   "pygments_lexer": "r",
   "version": "4.0.0"
  }
 },
 "nbformat": 4,
 "nbformat_minor": 4
}
